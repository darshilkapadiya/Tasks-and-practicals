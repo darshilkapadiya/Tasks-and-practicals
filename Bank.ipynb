{
 "cells": [
  {
   "cell_type": "code",
   "execution_count": 1,
   "id": "ab613252-cd4f-411c-a103-20fa7aa4f6f0",
   "metadata": {},
   "outputs": [],
   "source": [
    "bank = {'acc_num':3072021,\n",
    "       'holder_name':'Darshil kapadiya',\n",
    "       'pin':30721,\n",
    "       'curr_balance':9999999,\n",
    "       'Bank_name':'SBI',\n",
    "       'Branch':'Civil',\n",
    "       'credit':0,\n",
    "       'debit':0}"
   ]
  },
  {
   "cell_type": "code",
   "execution_count": 6,
   "id": "29853589-0068-48d8-a2b1-41de5c35f909",
   "metadata": {},
   "outputs": [],
   "source": [
    "def bankapp():\n",
    "    #import json\n",
    "    import datetime\n",
    "    acc_no = int(input(\"Enter your account number\"))\n",
    "    if acc_no == bank['acc_num']:\n",
    "        pin = input(\"Enter PIN\")\n",
    "    assert int(pin) == bank['pin'], f\"Please enter correct pin number {bank['holder_name']}\"\n",
    "\n",
    "    sel = input(\"Select one option 1. deposit 2. withdraw 3. Tranaction history-->\")\n",
    "\n",
    "    if sel == '1':\n",
    "        #In = (0.0083 * bank['curr_balance'])/30\n",
    "        dep = int(input(\"Enter amount to deposit->\"))\n",
    "        bank['curr_balance'] += dep \n",
    "        bank['credit'] += dep\n",
    "        print(\"After deposit your current balance is-->\",bank['curr_balance'])\n",
    "        print(f\"Total credit till {datetime.datetime.strftime(datetime.datetime.now(),'%D')} Date-->\",bank['credit'])\n",
    "        d = list()\n",
    "        de = list()\n",
    "        curr = list()\n",
    "        #i = list()\n",
    "        #i.append(In)\n",
    "        cre = list()\n",
    "        cre.append(dep)\n",
    "        curr.append(bank['curr_balance'])\n",
    "        available  = bank['curr_balance']\n",
    "        t = {}\n",
    "        d.append(datetime.datetime.strftime(datetime.datetime.now(),'%D'))\n",
    "        t.update({'date':d,'debit':de,'credit':cre,'Available balance':curr})\n",
    "        #for v in t.values():\n",
    "        #da  = ''\n",
    "        #deb = ''\n",
    "        #cr = ''\n",
    "        #avail = ''\n",
    "        #da,deb,cr,avail = t.values()\n",
    "        tr = open('transaction.txt','a')\n",
    "        tr.writelines('\\n'+ str(datetime.datetime.strftime(datetime.datetime.now(),'%D %T'))+'\\t'+str(dep)+'\\t'+'\\t'+'Credited'+'\\t'+'\\t'+ str(available) ) \n",
    "        tr.close()\n",
    "\n",
    "    elif sel == '2':\n",
    "        amount = int(input(\"Enter amount to withdraw\"))\n",
    "        \n",
    "        if amount<=bank['curr_balance']:\n",
    "            #In = (0.0083 * bank['curr_balance'])/30\n",
    "            bank['curr_balance'] = bank['curr_balance'] - amount\n",
    "            bank['debit'] += amount\n",
    "            print(f\"Total Debit till {datetime.datetime.strftime(datetime.datetime.now(),'%D')} Date-->\",bank['debit'])\n",
    "            print(\"current balance-->\",bank['curr_balance'])\n",
    "            d = list()\n",
    "            de = list()\n",
    "            #i = list()\n",
    "            curr = list()\n",
    "            cre = list()\n",
    "            #i.append(In)\n",
    "            available = bank['curr_balance']\n",
    "            curr.append(bank['curr_balance'])\n",
    "            d.append(datetime.datetime.strftime(datetime.datetime.now(),'%D'))\n",
    "            de.append(amount)\n",
    "            t = {}\n",
    "            t.update({'date':d,'debit':de,'credit':cre,'Available Balance':curr})\n",
    "            #for v in t.values():\n",
    "            #da  = ''\n",
    "            #deb = ''\n",
    "            #cr = ''\n",
    "            #avail = ''\n",
    "            #da,deb,cr,avail = t.values()\n",
    "            tr = open('transaction.txt','a')\n",
    "            tr.writelines('\\n'+ str(datetime.datetime.strftime(datetime.datetime.now(),'%D %T'))+'\\t'+str(amount)+'\\t'+'\\t'+'Debited'+'\\t'+'\\t'+ str(available)) \n",
    "            tr.close()\n",
    "        else:\n",
    "            print(\"The withdrawal amount is higher than the current Balance\")\n",
    "    elif sel == '3':\n",
    "        tr = open('transaction.txt','r')\n",
    "        tr.seek(0)\n",
    "        print(tr.read(),'\\n')\n",
    "        tr.close()\n",
    "    else:\n",
    "        print(\"Invalid input\")"
   ]
  },
  {
   "cell_type": "code",
   "execution_count": 11,
   "id": "cef33f31-5835-40bd-b504-d4e7878afb3a",
   "metadata": {},
   "outputs": [
    {
     "name": "stdin",
     "output_type": "stream",
     "text": [
      "Enter your account number 3072021\n",
      "Enter PIN 30721\n",
      "Select one option 1. deposit 2. withdraw 3. Tranaction history--> 3\n"
     ]
    },
    {
     "name": "stdout",
     "output_type": "stream",
     "text": [
      "Date\t\t\tAmount\t\t\tTransact status\t\t\tAvailable Balance\n",
      "\n",
      "\n",
      "09/24/21 11:26:28\t20000\t\tCredited\t\t9990199\n",
      "09/24/21 11:26:37\t3000\t\tDebited\t\t9987199\n",
      "09/24/21 11:27:11\t20010203\t\tCredited\t\t29997402 \n",
      "\n"
     ]
    }
   ],
   "source": [
    "try:\n",
    "    bankapp()\n",
    "except Exception as err:\n",
    "    print(err)"
   ]
  },
  {
   "cell_type": "code",
   "execution_count": 3,
   "id": "977da0f9-e451-4554-94c4-a6b6211f98da",
   "metadata": {},
   "outputs": [],
   "source": [
    "tr = open('transaction.txt','a')\n",
    "tr.writelines('Date'+'\\t'+'\\t'+'\\t'+'Amount'+'\\t'+'\\t'+'\\t'+'Transact status'+'\\t'+'\\t'+'\\t'+'Available Balance'+'\\n') \n",
    "tr.close()"
   ]
  },
  {
   "cell_type": "code",
   "execution_count": null,
   "id": "22b4cb26-8506-4ed1-bfc9-e4b3a09a362b",
   "metadata": {},
   "outputs": [],
   "source": []
  }
 ],
 "metadata": {
  "kernelspec": {
   "display_name": "Python 3",
   "language": "python",
   "name": "python3"
  },
  "language_info": {
   "codemirror_mode": {
    "name": "ipython",
    "version": 3
   },
   "file_extension": ".py",
   "mimetype": "text/x-python",
   "name": "python",
   "nbconvert_exporter": "python",
   "pygments_lexer": "ipython3",
   "version": "3.8.8"
  }
 },
 "nbformat": 4,
 "nbformat_minor": 5
}
