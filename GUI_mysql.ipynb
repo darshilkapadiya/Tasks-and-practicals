{
 "cells": [
  {
   "cell_type": "code",
   "execution_count": 1,
   "id": "a6b93920-a6db-47b5-9b0e-ac4987d959c5",
   "metadata": {},
   "outputs": [],
   "source": [
    "from tkinter import *"
   ]
  },
  {
   "cell_type": "code",
   "execution_count": 49,
   "id": "9b2e4f9e-74cc-498e-a295-718d7870d6c7",
   "metadata": {},
   "outputs": [],
   "source": [
    "import re\n",
    "import mysql.connector as sql"
   ]
  },
  {
   "cell_type": "code",
   "execution_count": 51,
   "id": "2752c097-eae4-438d-a476-d33636f9b9de",
   "metadata": {},
   "outputs": [],
   "source": [
    "mysql = sql.connect(\n",
    "    host = \"localhost\",\n",
    "    user = \"root\",\n",
    "    port = \"3306\",\n",
    "    password = \"Darshil\"\n",
    ")"
   ]
  },
  {
   "cell_type": "code",
   "execution_count": 52,
   "id": "aade9ddc-5853-42a7-8037-dfc43bcf78c4",
   "metadata": {},
   "outputs": [],
   "source": [
    "mycursor = mysql.cursor()"
   ]
  },
  {
   "cell_type": "code",
   "execution_count": 53,
   "id": "3f609e65-611c-454e-8cb6-4243a2931a09",
   "metadata": {},
   "outputs": [],
   "source": [
    "mycursor.execute(\"create database tkdetails\")"
   ]
  },
  {
   "cell_type": "code",
   "execution_count": 54,
   "id": "cf0786a1-72ab-4c81-8bdc-35c387288974",
   "metadata": {},
   "outputs": [],
   "source": [
    "mycursor.execute(\"use tkdetails\")"
   ]
  },
  {
   "cell_type": "code",
   "execution_count": 55,
   "id": "bff195b0-8842-4664-8bed-1f3a59e1da96",
   "metadata": {},
   "outputs": [],
   "source": [
    "mycursor.execute(\"create table register(name varchar(50),email varchar(200) unique,pwd varchar(100))\")"
   ]
  },
  {
   "cell_type": "code",
   "execution_count": 71,
   "id": "221fb00c-6105-4941-9fa0-0d5ce530af89",
   "metadata": {},
   "outputs": [],
   "source": [
    "tk = Tk()\n",
    "tk.geometry(\"450x300\")\n",
    "tk.title(\"Registration form\")\n",
    "\n",
    "def submit():\n",
    "    e = einp.get()\n",
    "    n = nameinp.get()\n",
    "    p = pwdinp.get()\n",
    "    if re.findall(\"^[a-zA-Z]*@gmail.com$\",e):\n",
    "        sql = \"insert into register(name,email,pwd) values(%s,%s,%s)\"\n",
    "        val = (n,e,p)\n",
    "        mycursor.execute(sql,val)\n",
    "        mysql.commit()\n",
    "        la['text'] = \"Registered succesfully\"\n",
    "    else:\n",
    "        la['text'] = \"Please enter correct email\"\n",
    "name = Label(tk,text=\"Enter your name\")\n",
    "name.grid(row=0,column=0)\n",
    "nameinp = Entry(tk,width=50)\n",
    "nameinp.grid(row=0,column=3)\n",
    "\n",
    "email = Label(tk,text=\"Enter your email\")\n",
    "email.grid(row=3,column=0)\n",
    "einp = Entry(tk,width=50)\n",
    "einp.grid(row=3,column=3)\n",
    "\n",
    "pwd = Label(tk,text=\"Enter password\")\n",
    "pwd.grid(row=5,column=0)\n",
    "pwdinp = Entry(tk,show=\"*\",width=50)\n",
    "pwdinp.grid(row=5,column=3)\n",
    "\n",
    "sub = Button(tk,text=\"submit\",command=submit)\n",
    "sub.grid(row=8,column=3)\n",
    "\n",
    "la = Label(tk,text=\"\")\n",
    "la.grid(row=10,column=3)"
   ]
  },
  {
   "cell_type": "code",
   "execution_count": 72,
   "id": "3d70f7b1-48cb-404b-8f21-c48f7b5b9738",
   "metadata": {},
   "outputs": [],
   "source": [
    "tk.mainloop()"
   ]
  },
  {
   "cell_type": "code",
   "execution_count": 73,
   "id": "d9800002-f544-444d-b768-32630f981f80",
   "metadata": {},
   "outputs": [],
   "source": [
    "mycursor.execute(\"select * from register\")"
   ]
  },
  {
   "cell_type": "code",
   "execution_count": 74,
   "id": "250ca350-3b4c-4c33-800d-ac7fec280090",
   "metadata": {},
   "outputs": [
    {
     "data": {
      "text/plain": [
       "[('admin', 'admin@gmail.com', 'admin'),\n",
       " ('darshil', 'darshil@gmail.com', 'darshil'),\n",
       " ('jamesbond', 'jamesbond@gmail.com', 'jamesbond')]"
      ]
     },
     "execution_count": 74,
     "metadata": {},
     "output_type": "execute_result"
    }
   ],
   "source": [
    "mycursor.fetchall()"
   ]
  },
  {
   "cell_type": "code",
   "execution_count": null,
   "id": "a8301314-d9f3-40eb-8d14-fefb415c1b99",
   "metadata": {},
   "outputs": [],
   "source": []
  }
 ],
 "metadata": {
  "kernelspec": {
   "display_name": "Python 3",
   "language": "python",
   "name": "python3"
  },
  "language_info": {
   "codemirror_mode": {
    "name": "ipython",
    "version": 3
   },
   "file_extension": ".py",
   "mimetype": "text/x-python",
   "name": "python",
   "nbconvert_exporter": "python",
   "pygments_lexer": "ipython3",
   "version": "3.8.8"
  }
 },
 "nbformat": 4,
 "nbformat_minor": 5
}
